{
 "cells": [
  {
   "cell_type": "markdown",
   "id": "30019d31-6989-4ead-919f-ba8f2dcc3a9a",
   "metadata": {},
   "source": [
    "# Data Visualisation of COVID-19 in the UK using Sqlite, Pandas and Seaborn Libraries \n",
    "## Part 1: Creating the Database\n",
    "\n",
    "This is the first notebook in a 3-part series which explores the UK Gov's COVID-19 dashboard data which is publically available for download via a REST API from gov.uk.  We make use of a Sqlite3 database to query this data using SQL and import aggregations into Pandas data frames.  We then use the Seaborn library to visualise the results.\n",
    "\n",
    "In this notebook (Part 1) - we create a set of empty tables required for storing the data.  Part 2 then looks at loading the data using the GOV.UK REST API.  Finally Part 3 will then query and visualise the data.\n",
    "\n",
    "The data used in this notebook is publically available and more information can be found here:\n",
    "https://coronavirus.data.gov.uk/details/about-data"
   ]
  },
  {
   "cell_type": "markdown",
   "id": "ac3578f5-9bfa-41f9-877f-2a2140766ad3",
   "metadata": {},
   "source": [
    "### Configuration and Setup\n",
    "\n",
    "Not much to do here apart from import the sqlite3 library and create a connection to a database file.  It doesn't matter if this database doesn't yet exist.  Also import OS and Garbage collection library for cleanup later."
   ]
  },
  {
   "cell_type": "code",
   "execution_count": 5,
   "id": "b4dfe7f4-d20f-4dd2-8bbf-2b57b91c3944",
   "metadata": {},
   "outputs": [],
   "source": [
    "import sqlite3\n",
    "\n",
    "sqlite_db_path = \"c19.db\"\n",
    "conn = sqlite3.connect(sqlite_db_path)"
   ]
  },
  {
   "cell_type": "markdown",
   "id": "efbd5809-078e-4df5-8b2d-00eb1b71a1f8",
   "metadata": {},
   "source": [
    "### c19dashboard_uk__national_daily_metrics\n",
    "\n",
    "This is used to store data downloaded where areaType = Nation.  For more details see: https://coronavirus.data.gov.uk/details/developers-guide"
   ]
  },
  {
   "cell_type": "code",
   "execution_count": 6,
   "id": "010eabd6-cd78-4f6d-8a8a-6885a8109e91",
   "metadata": {},
   "outputs": [],
   "source": [
    "# replace any existing table using DROP TABLE\n",
    "sql = \"\"\"\n",
    "DROP TABLE IF EXISTS c19dashboard_uk__national_daily_metrics;\n",
    "\n",
    "CREATE TABLE c19dashboard_uk__national_daily_metrics (\n",
    "    area_type                               TEXT        NOT NULL,\n",
    "    area_name                               TEXT        NOT NULL,\n",
    "    area_code                               TEXT        NOT NULL,\n",
    "    date                                    DATE        NOT NULL,\n",
    "    new_cases_by_publish_date               NUMERIC     NULL,\n",
    "    cum_cases_by_publish_date               NUMERIC     NULL,\n",
    "    cum_cases_by_publish_date_rate          NUMERIC     NULL,\n",
    "    new_cases_by_specimen_date              NUMERIC     NULL,\n",
    "    cum_cases_by_specimen_date              NUMERIC     NULL,\n",
    "    cum_cases_by_specimen_date_rate         NUMERIC     NULL,\n",
    "    male_cases                              TEXT        NULL,\n",
    "    female_cases                            TEXT        NULL,    \n",
    "    new_pillar_one_tests_by_publish_date    NUMERIC     NULL,\n",
    "    cum_pillar_one_tests_by_publish_date    NUMERIC     NULL,\n",
    "    new_pillar_two_tests_by_publish_date    NUMERIC     NULL,\n",
    "    cum_pillar_two_tests_by_publish_date    NUMERIC     NULL,\n",
    "    new_pillar_three_tests_by_publish_date  NUMERIC     NULL,\n",
    "    cum_pillar_three_tests_by_publish_date  NUMERIC     NULL,\n",
    "    new_admissions                          NUMERIC     NULL,\n",
    "    cum_admissions                          NUMERIC     NULL,\n",
    "    cum_admissions_by_age                   TEXT        NULL,\n",
    "    cum_tests_by_publish_date               NUMERIC     NULL,\n",
    "    new_tests_by_publish_date               NUMERIC     NULL,\n",
    "    covid_occupied_mv_beds                  NUMERIC     NULL,\n",
    "    hospital_cases                          NUMERIC     NULL,\n",
    "    new_deaths_28_days_by_publish_date      NUMERIC     NULL,\n",
    "    cum_deaths_28_days_by_publish_date      NUMERIC     NULL,\n",
    "    cum_deaths_28_days_by_publish_date_rate NUMERIC     NULL,\n",
    "    new_deaths_28_days_by_death_date        NUMERIC     NULL,\n",
    "    cum_deaths_28_days_by_death_date        NUMERIC     NULL,\n",
    "    cum_deaths_28_days_by_death_date_rate   NUMERIC     NULL\n",
    ");\n",
    "\"\"\"\n",
    "_ = conn.executescript(sql)"
   ]
  },
  {
   "cell_type": "markdown",
   "id": "21dbaa38-d5bd-40e7-8235-ef9d1e05dcac",
   "metadata": {},
   "source": [
    "### c19dashboard_uk__summary_daily_metrics\n",
    "\n",
    "This is used to store data downloaded where areaType = Overall.  For more details see: https://coronavirus.data.gov.uk/details/developers-guide"
   ]
  },
  {
   "cell_type": "code",
   "execution_count": 7,
   "id": "aa03f53e-c1a8-49e3-94bf-1a4fa19c2bed",
   "metadata": {},
   "outputs": [],
   "source": [
    "# replace any existing table using DROP TABLE\n",
    "sql = \"\"\"\n",
    "DROP TABLE IF EXISTS c19dashboard_uk__summary_daily_metrics;\n",
    "\n",
    "CREATE TABLE IF NOT EXISTS c19dashboard_uk__summary_daily_metrics (\n",
    "    area_type                               TEXT              NOT NULL, \n",
    "    area_name                               TEXT              NOT NULL, \n",
    "    area_code                               TEXT              NOT NULL, \n",
    "    date                                    DATE              NOT NULL,\n",
    "    new_cases_by_publish_date               NUMERIC           NULL, \n",
    "    cum_cases_by_publish_date               NUMERIC           NULL, \n",
    "    cum_cases_by_publish_date_rate          NUMERIC           NULL,\n",
    "    new_cases_by_specimen_date              NUMERIC           NULL, \n",
    "    cum_cases_by_specimen_date              NUMERIC           NULL, \n",
    "    cum_cases_by_specimen_date_rate         NUMERIC           NULL,\n",
    "    new_pillar_one_tests_by_publish_date    NUMERIC           NULL, \n",
    "    cum_pillar_one_tests_by_publish_date    NUMERIC           NULL, \n",
    "    new_pillar_two_tests_by_publish_date    NUMERIC           NULL, \n",
    "    cum_pillar_two_tests_by_publish_date    NUMERIC           NULL, \n",
    "    new_pillar_three_tests_by_publish_date  NUMERIC           NULL, \n",
    "    cum_pillar_three_tests_by_publish_date  NUMERIC           NULL, \n",
    "    new_pillar_four_tests_by_publish_date   NUMERIC           NULL, \n",
    "    cum_pillar_four_tests_by_publish_date   NUMERIC           NULL,     \n",
    "    new_admissions                          NUMERIC           NULL, \n",
    "    cum_admissions                          NUMERIC           NULL, \n",
    "    cum_tests_by_publish_date               NUMERIC           NULL, \n",
    "    new_tests_by_publish_date               NUMERIC           NULL, \n",
    "    covid_occupied_mv_beds                  NUMERIC           NULL, \n",
    "    hospital_cases                          NUMERIC           NULL, \n",
    "    planned_capacity_by_publish_date        NUMERIC           NULL,    \n",
    "    new_deaths_28_days_by_publish_date      NUMERIC           NULL, \n",
    "    cum_deaths_28_days_by_publish_date      NUMERIC           NULL, \n",
    "    cum_deaths_28_days_by_publish_date_rate NUMERIC           NULL, \n",
    "    new_deaths_28_days_by_death_date        NUMERIC           NULL, \n",
    "    cum_deaths_28_days_by_death_date        NUMERIC           NULL, \n",
    "    cum_deaths_28_days_by_death_date_rate   NUMERIC           NULL\n",
    ");\n",
    "\"\"\"\n",
    "_ = conn.executescript(sql)"
   ]
  },
  {
   "cell_type": "markdown",
   "id": "95a0f268-62bf-4a61-93ec-9926052e05eb",
   "metadata": {},
   "source": [
    "### c19dashboard_uk__summary_daily_metrics\n",
    "\n",
    "This is used to store data downloaded where areaType = Overall.  For more details see: https://coronavirus.data.gov.uk/details/developers-guide"
   ]
  },
  {
   "cell_type": "code",
   "execution_count": null,
   "id": "2689c46d-ad3d-49a6-9456-e8d98fc6c587",
   "metadata": {},
   "outputs": [],
   "source": []
  },
  {
   "cell_type": "code",
   "execution_count": null,
   "id": "dcc4a073-1d70-40ab-b7d4-880481b506a8",
   "metadata": {},
   "outputs": [],
   "source": []
  },
  {
   "cell_type": "code",
   "execution_count": null,
   "id": "3d4abb82-9f67-46f3-a46a-cec276532f1a",
   "metadata": {},
   "outputs": [],
   "source": []
  },
  {
   "cell_type": "code",
   "execution_count": null,
   "id": "4c35e192-cb13-4ac2-bdab-2d4f96d4dd2e",
   "metadata": {},
   "outputs": [],
   "source": []
  },
  {
   "cell_type": "code",
   "execution_count": null,
   "id": "d3eb1943-c545-4240-9547-aa2c437286fa",
   "metadata": {},
   "outputs": [],
   "source": []
  },
  {
   "cell_type": "markdown",
   "id": "9b91fbbe-c374-469c-9be1-fc6a39ed5bce",
   "metadata": {},
   "source": [
    "### reference_geography__age_gender_populations\n",
    "\n",
    "This provides populations at different gender and age groups for various different area types - such as UTLA and UTLA as well as National and Regional level populations.\n",
    "\n",
    "This data is available to download from the GOV.UK website here: https://coronavirus.data.gov.uk/details/download\n",
    "\n",
    "More information can be found on the ONS website: https://www.ons.gov.uk/peoplepopulationandcommunity/populationandmigration/populationestimates/datasets/populationestimatesforukenglandandwalesscotlandandnorthernireland"
   ]
  },
  {
   "cell_type": "code",
   "execution_count": 8,
   "id": "c2404599-2bd8-4be4-a3e1-4151576b10cc",
   "metadata": {},
   "outputs": [],
   "source": [
    "# replace any existing table using DROP TABLE\n",
    "sql = \"\"\"\n",
    "DROP TABLE IF EXISTS reference_geography__age_gender_populations;\n",
    "\n",
    "CREATE TABLE IF NOT EXISTS reference_geography__age_gender_populations (\n",
    "    category   TEXT     NOT NULL, \n",
    "    area_code  TEXT     NOT NULL, \n",
    "    gender     TEXT     NOT NULL, \n",
    "    age        TEXT     NOT NULL, \n",
    "    population NUMERIC  NOT NULL\n",
    ");\n",
    "\"\"\"\n",
    "_ = conn.executescript(sql)"
   ]
  },
  {
   "cell_type": "markdown",
   "id": "cf90da3b-e831-46c9-8b5e-b07ae8aa2c60",
   "metadata": {},
   "source": [
    "### Cleanup\n",
    "\n",
    "Ensure all changes are committed and then close the Sqlite connection.  Also force garbage collection - at this point, there should be no locks on the database file so it could be zipped up and deleted."
   ]
  },
  {
   "cell_type": "code",
   "execution_count": 9,
   "id": "ea839106-0b78-42ab-9832-3c332ac67275",
   "metadata": {},
   "outputs": [],
   "source": [
    "import gc\n",
    "\n",
    "# Commit and close Sqlite connection\n",
    "conn.commit()\n",
    "conn.close()\n",
    "\n",
    "# Force garbage collection\n",
    "_ = gc.collect(2)"
   ]
  },
  {
   "cell_type": "markdown",
   "id": "50d0f376-5ab4-4035-a88d-eaeadf64937d",
   "metadata": {},
   "source": [
    "### Optional: Compress Sqlite database file \n",
    "\n",
    "To help keep file sizes small and to allow the database to be easily stored in a Git repo, you may want to compress the database file and then remove the original."
   ]
  },
  {
   "cell_type": "code",
   "execution_count": null,
   "id": "af947b60-a42d-4382-abed-314e86057edd",
   "metadata": {},
   "outputs": [],
   "source": [
    "import os\n",
    "import gzip\n",
    "import shutil\n",
    "\n",
    "with open(sqlite_db_path, 'rb') as f_in:\n",
    "    with gzip.open(sqlite_db_path + \".gz\", 'wb') as f_out:\n",
    "        shutil.copyfileobj(f_in, f_out)\n",
    "        \n",
    "os.remove(sqlite_db_path)"
   ]
  },
  {
   "cell_type": "code",
   "execution_count": null,
   "id": "0ea4c295-2675-49be-b69c-5ef896c44548",
   "metadata": {},
   "outputs": [],
   "source": []
  }
 ],
 "metadata": {
  "kernelspec": {
   "display_name": "Python 3",
   "language": "python",
   "name": "python3"
  },
  "language_info": {
   "codemirror_mode": {
    "name": "ipython",
    "version": 3
   },
   "file_extension": ".py",
   "mimetype": "text/x-python",
   "name": "python",
   "nbconvert_exporter": "python",
   "pygments_lexer": "ipython3",
   "version": "3.8.8"
  }
 },
 "nbformat": 4,
 "nbformat_minor": 5
}
